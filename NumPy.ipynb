{
 "cells": [
  {
   "cell_type": "markdown",
   "id": "ddffe477",
   "metadata": {},
   "source": [
    "## NumPy"
   ]
  },
  {
   "cell_type": "markdown",
   "id": "9843c393",
   "metadata": {},
   "source": [
    "NumPy (short for Numerical Python) is a Python library used for numerical and scientific computing. It provides powerful tools for working with large, multi-dimensional arrays and matrices, along with a collection of mathematical functions to operate on these data structures efficiently. NumPy is widely used in data analysis, machine learning, and scientific computing due to its speed and flexibility."
   ]
  },
  {
   "cell_type": "markdown",
   "id": "f10cc3cf",
   "metadata": {},
   "source": [
    "### Key Features of NumPy\n",
    "\n",
    "   **1. N-Dimensional Arrays:** NumPy arrays (ndarray) are faster and more efficient than Python lists for numerical operations.<br>\n",
    "   **2. Mathematical Functions:** Includes functions for algebra, statistics, and complex numerical computations.<br>\n",
    "   **3. Broadcasting:** Supports operations between arrays of different shapes.<br>\n",
    "   **4. Integration with Other Libraries:** Often used with libraries like Pandas, Matplotlib, and Scikit-learn.<br>\n",
    "   **5. Speed:** Operates at speeds closer to low-level languages like C, as it is implemented in C."
   ]
  },
  {
   "cell_type": "markdown",
   "id": "d37aa382",
   "metadata": {},
   "source": [
    "### How to create Numpy Arrays?\n",
    "NumPy arrays can be created in multiple ways depending on the data or structure you need. Below are all the possible ways to create a NumPy array:<br>\n",
    "We can use Numpy library to create arrays"
   ]
  },
  {
   "cell_type": "code",
   "execution_count": 1,
   "id": "609490f0",
   "metadata": {},
   "outputs": [],
   "source": [
    "import numpy as np"
   ]
  },
  {
   "cell_type": "markdown",
   "id": "5816b56f",
   "metadata": {},
   "source": [
    "### 1. From a Python List or Tuple\n",
    "\n",
    "Convert an existing list or tuple into a NumPy array using `np.array`."
   ]
  },
  {
   "cell_type": "code",
   "execution_count": 2,
   "id": "9fce57fe",
   "metadata": {},
   "outputs": [
    {
     "name": "stdout",
     "output_type": "stream",
     "text": [
      "From list: [1 2 3 4]\n",
      "From tuple: [5 6 7 8]\n"
     ]
    }
   ],
   "source": [
    "import numpy as np\n",
    "\n",
    "# From a list\n",
    "arr_from_list = np.array([1, 2, 3, 4])\n",
    "print(\"From list:\", arr_from_list)\n",
    "\n",
    "# From a tuple\n",
    "arr_from_tuple = np.array((5, 6, 7, 8))\n",
    "print(\"From tuple:\", arr_from_tuple)"
   ]
  },
  {
   "cell_type": "markdown",
   "id": "b1690fa0",
   "metadata": {},
   "source": [
    "### 2. Using Built-in Functions\n",
    "\n",
    "NumPy provides functions to create arrays with specific patterns"
   ]
  },
  {
   "cell_type": "markdown",
   "id": "9fa83eb9",
   "metadata": {},
   "source": [
    "* a. `np.zeros`: Array of all zeros"
   ]
  },
  {
   "cell_type": "code",
   "execution_count": 23,
   "id": "a1804bd3",
   "metadata": {},
   "outputs": [
    {
     "name": "stdout",
     "output_type": "stream",
     "text": [
      "Zeros Array:\n",
      " [[0. 0. 0. 0.]\n",
      " [0. 0. 0. 0.]\n",
      " [0. 0. 0. 0.]]\n"
     ]
    }
   ],
   "source": [
    "zeros_array = np.zeros((3, 4))\n",
    "print(\"Zeros Array:\\n\", zeros_array)"
   ]
  },
  {
   "cell_type": "markdown",
   "id": "0a4f0d7d",
   "metadata": {},
   "source": [
    "* b. `np.ones`: Array of all ones"
   ]
  },
  {
   "cell_type": "code",
   "execution_count": 6,
   "id": "a2aca757",
   "metadata": {},
   "outputs": [
    {
     "name": "stdout",
     "output_type": "stream",
     "text": [
      "Ones Array:\n",
      " [[1. 1.]\n",
      " [1. 1.]\n",
      " [1. 1.]]\n"
     ]
    }
   ],
   "source": [
    "ones_array = np.ones((3, 2))\n",
    "print(\"Ones Array:\\n\", ones_array)"
   ]
  },
  {
   "cell_type": "markdown",
   "id": "48e483e5",
   "metadata": {},
   "source": [
    "* c. `np.empty`: Array with uninitialized values"
   ]
  },
  {
   "cell_type": "code",
   "execution_count": 7,
   "id": "c800b439",
   "metadata": {},
   "outputs": [
    {
     "name": "stdout",
     "output_type": "stream",
     "text": [
      "Empty Array:\n",
      " [[2.12199579e-314 6.47208716e-312]\n",
      " [5.03946959e-321 6.95187041e-310]]\n"
     ]
    }
   ],
   "source": [
    "empty_array = np.empty((2, 2))\n",
    "print(\"Empty Array:\\n\", empty_array)"
   ]
  },
  {
   "cell_type": "markdown",
   "id": "413f9bc6",
   "metadata": {},
   "source": [
    "* d. `np.full`: Array filled with a specific value"
   ]
  },
  {
   "cell_type": "code",
   "execution_count": 8,
   "id": "08ef6ee9",
   "metadata": {},
   "outputs": [
    {
     "name": "stdout",
     "output_type": "stream",
     "text": [
      "Full Array:\n",
      " [[7 7 7]\n",
      " [7 7 7]]\n"
     ]
    }
   ],
   "source": [
    "full_array = np.full((2, 3), 7)\n",
    "print(\"Full Array:\\n\", full_array)"
   ]
  },
  {
   "cell_type": "markdown",
   "id": "815ff8ba",
   "metadata": {},
   "source": [
    "### 3. Using Sequences"
   ]
  },
  {
   "cell_type": "markdown",
   "id": "608ab61b",
   "metadata": {},
   "source": [
    "Create arrays with sequences of numbers."
   ]
  },
  {
   "cell_type": "markdown",
   "id": "310be3f0",
   "metadata": {},
   "source": [
    "* a. `np.arange`: Similar to Python's range"
   ]
  },
  {
   "cell_type": "code",
   "execution_count": 9,
   "id": "f4d1fb1b",
   "metadata": {},
   "outputs": [
    {
     "name": "stdout",
     "output_type": "stream",
     "text": [
      "Arange Array: [0 2 4 6 8]\n"
     ]
    }
   ],
   "source": [
    "arr_range = np.arange(0, 10, 2)  # Start, stop, step\n",
    "print(\"Arange Array:\", arr_range)"
   ]
  },
  {
   "cell_type": "markdown",
   "id": "86ff399d",
   "metadata": {},
   "source": [
    "* b. `np.linspace`: Specify the number of evenly spaced points"
   ]
  },
  {
   "cell_type": "code",
   "execution_count": 10,
   "id": "4dbd340e",
   "metadata": {},
   "outputs": [
    {
     "name": "stdout",
     "output_type": "stream",
     "text": [
      "Linspace Array: [0.   0.25 0.5  0.75 1.  ]\n"
     ]
    }
   ],
   "source": [
    "arr_linspace = np.linspace(0, 1, 5)  # Start, stop, num_points\n",
    "print(\"Linspace Array:\", arr_linspace)"
   ]
  },
  {
   "cell_type": "markdown",
   "id": "c9f16765",
   "metadata": {},
   "source": [
    "### 4. Identity and Diagonal Matrices\n",
    "\n",
    "Create arrays representing identity or diagonal matrices."
   ]
  },
  {
   "cell_type": "markdown",
   "id": "d959a61e",
   "metadata": {},
   "source": [
    "* a. `np.eye`: Identity matrix"
   ]
  },
  {
   "cell_type": "code",
   "execution_count": 11,
   "id": "216f364c",
   "metadata": {},
   "outputs": [
    {
     "name": "stdout",
     "output_type": "stream",
     "text": [
      "Identity Matrix:\n",
      " [[1. 0. 0.]\n",
      " [0. 1. 0.]\n",
      " [0. 0. 1.]]\n"
     ]
    }
   ],
   "source": [
    "identity_matrix = np.eye(3)\n",
    "print(\"Identity Matrix:\\n\", identity_matrix)"
   ]
  },
  {
   "cell_type": "markdown",
   "id": "094c1a26",
   "metadata": {},
   "source": [
    "* b. `np.diag`: Diagonal matrix from a list"
   ]
  },
  {
   "cell_type": "code",
   "execution_count": 12,
   "id": "e641af4b",
   "metadata": {},
   "outputs": [
    {
     "name": "stdout",
     "output_type": "stream",
     "text": [
      "Diagonal Matrix:\n",
      " [[1 0 0]\n",
      " [0 2 0]\n",
      " [0 0 3]]\n"
     ]
    }
   ],
   "source": [
    "diag_matrix = np.diag([1, 2, 3])\n",
    "print(\"Diagonal Matrix:\\n\", diag_matrix)"
   ]
  },
  {
   "cell_type": "markdown",
   "id": "643a7cf8",
   "metadata": {},
   "source": [
    "### 5. Random Arrays\n",
    "\n",
    "Generate arrays with random values."
   ]
  },
  {
   "cell_type": "markdown",
   "id": "67787987",
   "metadata": {},
   "source": [
    "#### a. Random values between 0 and 1"
   ]
  },
  {
   "cell_type": "code",
   "execution_count": 13,
   "id": "42fdd233",
   "metadata": {},
   "outputs": [
    {
     "name": "stdout",
     "output_type": "stream",
     "text": [
      "Random Array:\n",
      " [[0.10337865 0.02511361]\n",
      " [0.15460146 0.97927016]]\n"
     ]
    }
   ],
   "source": [
    "random_array = np.random.random((2, 2))\n",
    "print(\"Random Array:\\n\", random_array)"
   ]
  },
  {
   "cell_type": "markdown",
   "id": "9036558d",
   "metadata": {},
   "source": [
    "####  b. Random integers"
   ]
  },
  {
   "cell_type": "code",
   "execution_count": 65,
   "id": "52c39b42",
   "metadata": {},
   "outputs": [
    {
     "name": "stdout",
     "output_type": "stream",
     "text": [
      "Random Integers Array:\n",
      " [[7 4 1 2]\n",
      " [0 3 0 5]\n",
      " [0 7 8 1]]\n"
     ]
    }
   ],
   "source": [
    "randint_array = np.random.randint(0, 10, (3, 4))  # Low, high, shape\n",
    "print(\"Random Integers Array:\\n\", randint_array)"
   ]
  },
  {
   "cell_type": "markdown",
   "id": "9203de11",
   "metadata": {},
   "source": [
    "#### c. Normal distribution"
   ]
  },
  {
   "cell_type": "code",
   "execution_count": 15,
   "id": "4ba9f686",
   "metadata": {},
   "outputs": [
    {
     "name": "stdout",
     "output_type": "stream",
     "text": [
      "Normal Distribution Array:\n",
      " [[-0.72045135 -0.35334686 -1.21651265]\n",
      " [ 1.3147829  -1.37930883 -1.76732016]]\n"
     ]
    }
   ],
   "source": [
    "normal_array = np.random.normal(0, 1, (2, 3))  # Mean, std, shape\n",
    "print(\"Normal Distribution Array:\\n\", normal_array)"
   ]
  },
  {
   "cell_type": "markdown",
   "id": "8d9e3dd0",
   "metadata": {},
   "source": [
    "### 6. From Existing Data\n",
    "* a. `np.copy`: Create a copy of an existing array"
   ]
  },
  {
   "cell_type": "code",
   "execution_count": 16,
   "id": "85098340",
   "metadata": {},
   "outputs": [
    {
     "name": "stdout",
     "output_type": "stream",
     "text": [
      "Copied Array: [1 2 3]\n"
     ]
    }
   ],
   "source": [
    "original_array = np.array([1, 2, 3])\n",
    "copied_array = np.copy(original_array)\n",
    "print(\"Copied Array:\", copied_array)"
   ]
  },
  {
   "cell_type": "markdown",
   "id": "5cfd6a01",
   "metadata": {},
   "source": [
    "* b. From another array’s shape"
   ]
  },
  {
   "cell_type": "code",
   "execution_count": 17,
   "id": "9a0f2349",
   "metadata": {},
   "outputs": [
    {
     "name": "stdout",
     "output_type": "stream",
     "text": [
      "Array with Same Shape as Original:\n",
      " [1 1 1]\n"
     ]
    }
   ],
   "source": [
    "shape_array = np.ones_like(original_array)\n",
    "print(\"Array with Same Shape as Original:\\n\", shape_array)"
   ]
  },
  {
   "cell_type": "markdown",
   "id": "bbc7bb7e",
   "metadata": {},
   "source": [
    "### 7. Reshaped Arrays\n",
    "\n",
    "Create arrays with `reshaped` dimensions."
   ]
  },
  {
   "cell_type": "code",
   "execution_count": 18,
   "id": "dec3c069",
   "metadata": {},
   "outputs": [
    {
     "name": "stdout",
     "output_type": "stream",
     "text": [
      "Reshaped Array:\n",
      " [[ 0  1  2  3]\n",
      " [ 4  5  6  7]\n",
      " [ 8  9 10 11]]\n"
     ]
    }
   ],
   "source": [
    "reshaped_array = np.arange(12).reshape(3, 4)\n",
    "print(\"Reshaped Array:\\n\", reshaped_array)"
   ]
  },
  {
   "cell_type": "markdown",
   "id": "deb92816",
   "metadata": {},
   "source": [
    "### 8. Using Custom Data Types\n",
    "\n",
    "Specify a data type for the array."
   ]
  },
  {
   "cell_type": "code",
   "execution_count": 20,
   "id": "acae439a",
   "metadata": {},
   "outputs": [
    {
     "name": "stdout",
     "output_type": "stream",
     "text": [
      "Array with Float Data Type: [1. 2. 3.]\n"
     ]
    }
   ],
   "source": [
    "dtype_array = np.array([1, 2, 3], dtype=float)\n",
    "print(\"Array with Float Data Type:\", dtype_array)"
   ]
  },
  {
   "cell_type": "markdown",
   "id": "441e4210",
   "metadata": {},
   "source": [
    "## how to check dimension,shape and type of arrays?"
   ]
  },
  {
   "cell_type": "markdown",
   "id": "f0d467f3",
   "metadata": {},
   "source": [
    "### 1. Check Dimension (ndim)\n",
    "\n",
    "The `ndim` attribute tells you the number of dimensions (axes) of the array."
   ]
  },
  {
   "cell_type": "code",
   "execution_count": 24,
   "id": "38a49621",
   "metadata": {},
   "outputs": [
    {
     "name": "stdout",
     "output_type": "stream",
     "text": [
      "Array:\n",
      " [[1 2 3]\n",
      " [4 5 6]]\n",
      "Number of dimensions: 2\n"
     ]
    }
   ],
   "source": [
    "import numpy as np\n",
    "\n",
    "# Example array\n",
    "arr = np.array([[1, 2, 3], [4, 5, 6]])\n",
    "\n",
    "print(\"Array:\\n\", arr)\n",
    "print(\"Number of dimensions:\", arr.ndim)  # Output: 2"
   ]
  },
  {
   "cell_type": "markdown",
   "id": "5b7435ec",
   "metadata": {},
   "source": [
    "### 2. Check Shape (shape)\n",
    "\n",
    "The `shape` attribute returns a tuple representing the size of the array along each dimension."
   ]
  },
  {
   "cell_type": "code",
   "execution_count": 25,
   "id": "75c54fcc",
   "metadata": {},
   "outputs": [
    {
     "name": "stdout",
     "output_type": "stream",
     "text": [
      "Shape of the array: (2, 3)\n"
     ]
    }
   ],
   "source": [
    "print(\"Shape of the array:\", arr.shape)  # Output: (2, 3)"
   ]
  },
  {
   "cell_type": "markdown",
   "id": "03ce2a6c",
   "metadata": {},
   "source": [
    "### 3. Check Data Type of Array Elements (dtype)\n",
    "\n",
    "The `dtype` attribute provides the data type of the array elements."
   ]
  },
  {
   "cell_type": "code",
   "execution_count": 26,
   "id": "bf479573",
   "metadata": {},
   "outputs": [
    {
     "name": "stdout",
     "output_type": "stream",
     "text": [
      "Data type of elements: int32\n"
     ]
    }
   ],
   "source": [
    "print(\"Data type of elements:\", arr.dtype)  # Output: int64 (or platform-specific int type)"
   ]
  },
  {
   "cell_type": "markdown",
   "id": "ba954c8d",
   "metadata": {},
   "source": [
    "### 4. Check Type of Array Object (type)\n",
    "\n",
    "The `type` function tells you the type of the array object itself (usually `numpy.ndarray`)."
   ]
  },
  {
   "cell_type": "code",
   "execution_count": 27,
   "id": "cb1137d0",
   "metadata": {},
   "outputs": [
    {
     "name": "stdout",
     "output_type": "stream",
     "text": [
      "Type of array object: <class 'numpy.ndarray'>\n"
     ]
    }
   ],
   "source": [
    "print(\"Type of array object:\", type(arr))  # Output: <class 'numpy.ndarray'>"
   ]
  },
  {
   "cell_type": "markdown",
   "id": "33982172",
   "metadata": {},
   "source": [
    "### 5. Check Total Number of Elements (size)\n",
    "\n",
    "The `size` attribute gives the total number of elements in the array."
   ]
  },
  {
   "cell_type": "code",
   "execution_count": 28,
   "id": "5743909f",
   "metadata": {},
   "outputs": [
    {
     "name": "stdout",
     "output_type": "stream",
     "text": [
      "Total number of elements: 6\n"
     ]
    }
   ],
   "source": [
    "print(\"Total number of elements:\", arr.size)  # Output: 6"
   ]
  },
  {
   "cell_type": "markdown",
   "id": "4db9fdbd",
   "metadata": {},
   "source": [
    "### How to create Multidimensional Array?"
   ]
  },
  {
   "cell_type": "code",
   "execution_count": 29,
   "id": "2df824c9",
   "metadata": {},
   "outputs": [
    {
     "name": "stdout",
     "output_type": "stream",
     "text": [
      "1D Array: [1 2 3 4]\n"
     ]
    }
   ],
   "source": [
    "import numpy as np\n",
    "\n",
    "# 1D Array\n",
    "arr_1d = np.array([1, 2, 3, 4])\n",
    "print(\"1D Array:\", arr_1d)"
   ]
  },
  {
   "cell_type": "code",
   "execution_count": 32,
   "id": "a9657866",
   "metadata": {},
   "outputs": [
    {
     "name": "stdout",
     "output_type": "stream",
     "text": [
      "1D Array: [[1 2]\n",
      " [3 4]]\n"
     ]
    }
   ],
   "source": [
    "arr_1d = np.array([1, 2, 3, 4]).reshape(2,2)\n",
    "print(\"1D Array:\", arr_1d)"
   ]
  },
  {
   "cell_type": "code",
   "execution_count": 37,
   "id": "a59cc8f4",
   "metadata": {},
   "outputs": [
    {
     "name": "stdout",
     "output_type": "stream",
     "text": [
      "2D Array:\n",
      " [[1 2]\n",
      " [3 4]]\n"
     ]
    }
   ],
   "source": [
    "# 2D Array\n",
    "arr_2d = np.array([[1, 2], [3, 4]])\n",
    "print(\"2D Array:\\n\", arr_2d)"
   ]
  },
  {
   "cell_type": "code",
   "execution_count": 31,
   "id": "6d20d586",
   "metadata": {},
   "outputs": [
    {
     "name": "stdout",
     "output_type": "stream",
     "text": [
      "3D Array:\n",
      " [[[1 2]\n",
      "  [3 4]]\n",
      "\n",
      " [[5 6]\n",
      "  [7 8]]]\n"
     ]
    }
   ],
   "source": [
    "# 3D Array\n",
    "arr_3d = np.array([[[1, 2], [3, 4]], [[5, 6], [7, 8]]])\n",
    "print(\"3D Array:\\n\", arr_3d)"
   ]
  },
  {
   "cell_type": "markdown",
   "id": "f0bd3123",
   "metadata": {},
   "source": [
    "**NumPy arrays support a wide range of operations for efficient numerical computation. Here's a categorized list of all common operations you can perform on arrays:**"
   ]
  },
  {
   "cell_type": "markdown",
   "id": "d663d666",
   "metadata": {},
   "source": [
    "### 1. Arithmetic Operations\n",
    "\n",
    "These operations are element-wise."
   ]
  },
  {
   "cell_type": "code",
   "execution_count": 38,
   "id": "6c11a121",
   "metadata": {},
   "outputs": [
    {
     "name": "stdout",
     "output_type": "stream",
     "text": [
      "Addition: [5 7 9]\n",
      "Subtraction: [-3 -3 -3]\n",
      "Multiplication: [ 4 10 18]\n",
      "Division: [0.25 0.4  0.5 ]\n",
      "Exponentiation: [1 4 9]\n"
     ]
    }
   ],
   "source": [
    "import numpy as np\n",
    "\n",
    "arr1 = np.array([1, 2, 3])\n",
    "arr2 = np.array([4, 5, 6])\n",
    "\n",
    "# Basic arithmetic\n",
    "print(\"Addition:\", arr1 + arr2)          # [5 7 9]\n",
    "print(\"Subtraction:\", arr1 - arr2)       # [-3 -3 -3]\n",
    "print(\"Multiplication:\", arr1 * arr2)    # [4 10 18]\n",
    "print(\"Division:\", arr1 / arr2)          # [0.25 0.4 0.5]\n",
    "print(\"Exponentiation:\", arr1 ** 2)      # [1 4 9]"
   ]
  },
  {
   "cell_type": "markdown",
   "id": "878bda23",
   "metadata": {},
   "source": [
    "### 2. Aggregation Operations\n",
    "\n",
    "These functions compute summary statistics."
   ]
  },
  {
   "cell_type": "code",
   "execution_count": 39,
   "id": "4d80f7c4",
   "metadata": {},
   "outputs": [
    {
     "name": "stdout",
     "output_type": "stream",
     "text": [
      "Sum: 21\n",
      "Mean: 3.5\n",
      "Max: 6\n",
      "Min: 1\n",
      "Sum along rows: [ 6 15]\n",
      "Sum along columns: [5 7 9]\n"
     ]
    }
   ],
   "source": [
    "arr = np.array([[1, 2, 3], [4, 5, 6]])\n",
    "\n",
    "# Basic aggregation\n",
    "print(\"Sum:\", arr.sum())                 # 21\n",
    "print(\"Mean:\", arr.mean())               # 3.5\n",
    "print(\"Max:\", arr.max())                 # 6\n",
    "print(\"Min:\", arr.min())                 # 1\n",
    "\n",
    "# Along specific axes\n",
    "print(\"Sum along rows:\", arr.sum(axis=1))  # [6 15]\n",
    "print(\"Sum along columns:\", arr.sum(axis=0))  # [5 7 9]"
   ]
  },
  {
   "cell_type": "markdown",
   "id": "5a508b72",
   "metadata": {},
   "source": [
    "### 3. Logical and Comparison Operations\n",
    "\n",
    "Perform element-wise comparisons or logical tests."
   ]
  },
  {
   "cell_type": "code",
   "execution_count": 40,
   "id": "d5fdbf33",
   "metadata": {},
   "outputs": [
    {
     "name": "stdout",
     "output_type": "stream",
     "text": [
      "Greater than 2: [False False  True  True]\n",
      "Equal to 3: [False False  True False]\n",
      "Any > 2: True\n",
      "All > 0: True\n"
     ]
    }
   ],
   "source": [
    "arr = np.array([1, 2, 3, 4])\n",
    "\n",
    "# Comparison\n",
    "print(\"Greater than 2:\", arr > 2)        # [False False  True  True]\n",
    "print(\"Equal to 3:\", arr == 3)           # [False False  True False]\n",
    "\n",
    "# Logical operations\n",
    "print(\"Any > 2:\", (arr > 2).any())       # True\n",
    "print(\"All > 0:\", (arr > 0).all())       # True"
   ]
  },
  {
   "cell_type": "markdown",
   "id": "53362cbb",
   "metadata": {},
   "source": [
    "### 4. Array Manipulation\n",
    "#### a. Reshaping\n",
    "\n",
    "Change the shape of the array without altering its data."
   ]
  },
  {
   "cell_type": "code",
   "execution_count": 41,
   "id": "6a87637f",
   "metadata": {},
   "outputs": [
    {
     "name": "stdout",
     "output_type": "stream",
     "text": [
      "Reshaped Array:\n",
      " [[ 1  2  3  4]\n",
      " [ 5  6  7  8]\n",
      " [ 9 10 11 12]]\n"
     ]
    }
   ],
   "source": [
    "arr = np.arange(1, 13)\n",
    "reshaped = arr.reshape(3, 4)\n",
    "print(\"Reshaped Array:\\n\", reshaped)"
   ]
  },
  {
   "cell_type": "markdown",
   "id": "2e87f56e",
   "metadata": {},
   "source": [
    "#### b. Flattening\n",
    "\n",
    "Convert a multi-dimensional array into a 1D array."
   ]
  },
  {
   "cell_type": "code",
   "execution_count": 42,
   "id": "b235d64f",
   "metadata": {},
   "outputs": [
    {
     "name": "stdout",
     "output_type": "stream",
     "text": [
      "Flattened Array: [ 1  2  3  4  5  6  7  8  9 10 11 12]\n"
     ]
    }
   ],
   "source": [
    "print(\"Flattened Array:\", reshaped.flatten())"
   ]
  },
  {
   "cell_type": "markdown",
   "id": "8bd00ec8",
   "metadata": {},
   "source": [
    "#### c. Transposing\n",
    "\n",
    "Switch rows and columns for 2D arrays or swap axes for higher dimensions."
   ]
  },
  {
   "cell_type": "code",
   "execution_count": 43,
   "id": "aea9d91c",
   "metadata": {},
   "outputs": [
    {
     "name": "stdout",
     "output_type": "stream",
     "text": [
      "Transpose:\n",
      " [[ 1  5  9]\n",
      " [ 2  6 10]\n",
      " [ 3  7 11]\n",
      " [ 4  8 12]]\n"
     ]
    }
   ],
   "source": [
    "print(\"Transpose:\\n\", reshaped.T)"
   ]
  },
  {
   "cell_type": "markdown",
   "id": "23fc27b4",
   "metadata": {},
   "source": [
    "#### d. Concatenation\n",
    "\n",
    "Combine arrays along a specific axis."
   ]
  },
  {
   "cell_type": "code",
   "execution_count": 44,
   "id": "8cb9f05d",
   "metadata": {},
   "outputs": [
    {
     "name": "stdout",
     "output_type": "stream",
     "text": [
      "Concatenated Rows:\n",
      " [[1 2]\n",
      " [3 4]\n",
      " [5 6]\n",
      " [7 8]]\n",
      "Concatenated Columns:\n",
      " [[1 2 5 6]\n",
      " [3 4 7 8]]\n"
     ]
    }
   ],
   "source": [
    "arr1 = np.array([[1, 2], [3, 4]])\n",
    "arr2 = np.array([[5, 6], [7, 8]])\n",
    "\n",
    "# Concatenate along rows\n",
    "print(\"Concatenated Rows:\\n\", np.concatenate((arr1, arr2), axis=0))\n",
    "\n",
    "# Concatenate along columns\n",
    "print(\"Concatenated Columns:\\n\", np.concatenate((arr1, arr2), axis=1))"
   ]
  },
  {
   "cell_type": "markdown",
   "id": "5fbe3f64",
   "metadata": {},
   "source": [
    "#### e. Splitting\n",
    "\n",
    "Split an array into smaller sub-arrays."
   ]
  },
  {
   "cell_type": "code",
   "execution_count": 45,
   "id": "1efbad8c",
   "metadata": {},
   "outputs": [
    {
     "name": "stdout",
     "output_type": "stream",
     "text": [
      "Split Arrays: [array([1, 2, 3]), array([4, 5, 6]), array([7, 8, 9])]\n"
     ]
    }
   ],
   "source": [
    "arr = np.arange(1, 10)\n",
    "splits = np.split(arr, 3)\n",
    "print(\"Split Arrays:\", splits)"
   ]
  },
  {
   "cell_type": "markdown",
   "id": "c15e4759",
   "metadata": {},
   "source": [
    "### 5. Indexing and Slicing\n",
    "\n",
    "Access specific elements or slices of the array."
   ]
  },
  {
   "cell_type": "code",
   "execution_count": 46,
   "id": "415f603f",
   "metadata": {},
   "outputs": [
    {
     "name": "stdout",
     "output_type": "stream",
     "text": [
      "Element [0,1]: 2\n",
      "First row: [1 2 3]\n",
      "First column: [1 4]\n",
      "Elements > 3: [4 5 6]\n"
     ]
    }
   ],
   "source": [
    "arr = np.array([[1, 2, 3], [4, 5, 6]])\n",
    "\n",
    "# Access specific element\n",
    "print(\"Element [0,1]:\", arr[0, 1])  # 2\n",
    "\n",
    "# Slice rows and columns\n",
    "print(\"First row:\", arr[0, :])  # [1 2 3]\n",
    "print(\"First column:\", arr[:, 0])  # [1 4]\n",
    "\n",
    "# Boolean indexing\n",
    "print(\"Elements > 3:\", arr[arr > 3])  # [4 5 6]"
   ]
  },
  {
   "cell_type": "markdown",
   "id": "3987b604",
   "metadata": {},
   "source": [
    "### 6. Mathematical Operations\n",
    "#### a. Trigonometric Functions"
   ]
  },
  {
   "cell_type": "code",
   "execution_count": 47,
   "id": "d84a8d82",
   "metadata": {},
   "outputs": [
    {
     "name": "stdout",
     "output_type": "stream",
     "text": [
      "Sine: [0.0000000e+00 1.0000000e+00 1.2246468e-16]\n",
      "Cosine: [ 1.000000e+00  6.123234e-17 -1.000000e+00]\n"
     ]
    }
   ],
   "source": [
    "angles = np.array([0, np.pi/2, np.pi])\n",
    "print(\"Sine:\", np.sin(angles))       # [0. 1. 0.]\n",
    "print(\"Cosine:\", np.cos(angles))     # [ 1. 0. -1.]"
   ]
  },
  {
   "cell_type": "markdown",
   "id": "09475eb9",
   "metadata": {},
   "source": [
    "#### b. Exponent and Logarithm"
   ]
  },
  {
   "cell_type": "code",
   "execution_count": 48,
   "id": "deda1e9a",
   "metadata": {},
   "outputs": [
    {
     "name": "stdout",
     "output_type": "stream",
     "text": [
      "Exponential: [ 2.71828183  7.3890561  20.08553692]\n",
      "Logarithm: [0.         0.69314718 1.09861229]\n"
     ]
    }
   ],
   "source": [
    "arr = np.array([1, 2, 3])\n",
    "print(\"Exponential:\", np.exp(arr))   # [2.71828183 7.3890561  20.08553692]\n",
    "print(\"Logarithm:\", np.log(arr))     # [0.         0.69314718 1.09861229]"
   ]
  },
  {
   "cell_type": "markdown",
   "id": "3f76ec0c",
   "metadata": {},
   "source": [
    "### 7. Sorting"
   ]
  },
  {
   "cell_type": "code",
   "execution_count": 49,
   "id": "eccd14cd",
   "metadata": {},
   "outputs": [
    {
     "name": "stdout",
     "output_type": "stream",
     "text": [
      "Sorted Rows:\n",
      " [[1 2 3]\n",
      " [4 5 6]]\n",
      "Sorted Flattened: [1 2 3 4 5 6]\n"
     ]
    }
   ],
   "source": [
    "arr = np.array([[3, 1, 2], [6, 5, 4]])\n",
    "\n",
    "# Sort each row\n",
    "print(\"Sorted Rows:\\n\", np.sort(arr, axis=1))\n",
    "\n",
    "# Sort entire array as flattened\n",
    "print(\"Sorted Flattened:\", np.sort(arr, axis=None))"
   ]
  },
  {
   "cell_type": "markdown",
   "id": "fc0d339e",
   "metadata": {},
   "source": [
    "### 8. Copying and Cloning"
   ]
  },
  {
   "cell_type": "code",
   "execution_count": 50,
   "id": "172048a2",
   "metadata": {},
   "outputs": [
    {
     "name": "stdout",
     "output_type": "stream",
     "text": [
      "Copied Array: [1 2 3]\n"
     ]
    }
   ],
   "source": [
    "arr = np.array([1, 2, 3])\n",
    "arr_copy = arr.copy()\n",
    "print(\"Copied Array:\", arr_copy)"
   ]
  },
  {
   "cell_type": "markdown",
   "id": "51d3288d",
   "metadata": {},
   "source": [
    "### 9. Linear Algebra Operations\n",
    "\n",
    "Use `numpy.linalg` for advanced matrix operations."
   ]
  },
  {
   "cell_type": "code",
   "execution_count": 51,
   "id": "12c1b722",
   "metadata": {},
   "outputs": [
    {
     "name": "stdout",
     "output_type": "stream",
     "text": [
      "Inverse:\n",
      " [[-2.   1. ]\n",
      " [ 1.5 -0.5]]\n",
      "Determinant: -2.0000000000000004\n"
     ]
    }
   ],
   "source": [
    "from numpy.linalg import inv, det\n",
    "\n",
    "matrix = np.array([[1, 2], [3, 4]])\n",
    "\n",
    "# Matrix inverse\n",
    "print(\"Inverse:\\n\", inv(matrix))\n",
    "\n",
    "# Determinant\n",
    "print(\"Determinant:\", det(matrix))"
   ]
  },
  {
   "cell_type": "markdown",
   "id": "cd031849",
   "metadata": {},
   "source": [
    "### 10. Statistical Operations"
   ]
  },
  {
   "cell_type": "code",
   "execution_count": 52,
   "id": "cba06e93",
   "metadata": {},
   "outputs": [
    {
     "name": "stdout",
     "output_type": "stream",
     "text": [
      "Mean: 3.0\n",
      "Median: 3.0\n",
      "Standard Deviation: 1.4142135623730951\n"
     ]
    }
   ],
   "source": [
    "arr = np.array([1, 2, 3, 4, 5])\n",
    "\n",
    "print(\"Mean:\", np.mean(arr))         # 3.0\n",
    "print(\"Median:\", np.median(arr))     # 3.0\n",
    "print(\"Standard Deviation:\", np.std(arr))  # 1.414"
   ]
  },
  {
   "cell_type": "markdown",
   "id": "25cb00d0",
   "metadata": {},
   "source": [
    "### 11. Random Number Operations"
   ]
  },
  {
   "cell_type": "code",
   "execution_count": 53,
   "id": "e087d151",
   "metadata": {},
   "outputs": [
    {
     "name": "stdout",
     "output_type": "stream",
     "text": [
      "Random Array:\n",
      " [[4 6 8]\n",
      " [5 5 9]]\n"
     ]
    }
   ],
   "source": [
    "random_array = np.random.randint(1, 10, (2, 3))  # 2x3 random integers\n",
    "print(\"Random Array:\\n\", random_array)"
   ]
  },
  {
   "cell_type": "markdown",
   "id": "10bcf4a0",
   "metadata": {},
   "source": [
    "### 13. Advanced Indexing Operations\n",
    "#### a. Fancy Indexing\n",
    "\n",
    "Index arrays using other arrays or lists."
   ]
  },
  {
   "cell_type": "code",
   "execution_count": 54,
   "id": "a83fb13b",
   "metadata": {},
   "outputs": [
    {
     "name": "stdout",
     "output_type": "stream",
     "text": [
      "Fancy Indexed Array: [10 40 50]\n"
     ]
    }
   ],
   "source": [
    "arr = np.array([10, 20, 30, 40, 50])\n",
    "\n",
    "# Select elements using indices\n",
    "indices = [0, 3, 4]\n",
    "print(\"Fancy Indexed Array:\", arr[indices])  # [10 40 50]"
   ]
  },
  {
   "cell_type": "markdown",
   "id": "fbf53cec",
   "metadata": {},
   "source": [
    "#### b. Index Arrays with Boolean Masks"
   ]
  },
  {
   "cell_type": "code",
   "execution_count": 55,
   "id": "f19d78f5",
   "metadata": {},
   "outputs": [
    {
     "name": "stdout",
     "output_type": "stream",
     "text": [
      "Even Numbers: [2 4]\n"
     ]
    }
   ],
   "source": [
    "arr = np.array([1, 2, 3, 4, 5])\n",
    "\n",
    "mask = arr % 2 == 0  # Find even numbers\n",
    "print(\"Even Numbers:\", arr[mask])  # [2 4]"
   ]
  },
  {
   "cell_type": "markdown",
   "id": "4799577f",
   "metadata": {},
   "source": [
    "### 14. Statistical and Probability Distributions\n",
    "\n",
    "Use `np.random` for sampling from distributions.\n",
    "#### a. Uniform Distribution"
   ]
  },
  {
   "cell_type": "code",
   "execution_count": 56,
   "id": "6e7e5a21",
   "metadata": {},
   "outputs": [
    {
     "name": "stdout",
     "output_type": "stream",
     "text": [
      "Uniform Distribution:\n",
      " [[0.37756668 0.40363578 0.74188257]\n",
      " [0.28366982 0.93972115 0.55268099]\n",
      " [0.45012324 0.72390242 0.33882264]]\n"
     ]
    }
   ],
   "source": [
    "uniform = np.random.uniform(0, 1, (3, 3))\n",
    "print(\"Uniform Distribution:\\n\", uniform)"
   ]
  },
  {
   "cell_type": "markdown",
   "id": "e70b87f7",
   "metadata": {},
   "source": [
    "#### b. Normal Distribution"
   ]
  },
  {
   "cell_type": "code",
   "execution_count": 57,
   "id": "3e59f237",
   "metadata": {},
   "outputs": [
    {
     "name": "stdout",
     "output_type": "stream",
     "text": [
      "Normal Distribution:\n",
      " [[ 1.48059705 -0.06854561  1.04631125]\n",
      " [-1.52049987 -1.09034194  1.30758795]]\n"
     ]
    }
   ],
   "source": [
    "normal = np.random.normal(0, 1, (2, 3))\n",
    "print(\"Normal Distribution:\\n\", normal)"
   ]
  },
  {
   "cell_type": "markdown",
   "id": "e6e4bbfc",
   "metadata": {},
   "source": [
    "#### c. Binomial Distribution"
   ]
  },
  {
   "cell_type": "code",
   "execution_count": 58,
   "id": "e9b96d5f",
   "metadata": {},
   "outputs": [
    {
     "name": "stdout",
     "output_type": "stream",
     "text": [
      "Binomial Distribution: [3 5 7 6 5]\n"
     ]
    }
   ],
   "source": [
    "binomial = np.random.binomial(10, 0.5, 5)  # 10 trials, p=0.5\n",
    "print(\"Binomial Distribution:\", binomial)"
   ]
  },
  {
   "cell_type": "markdown",
   "id": "fcb353ab",
   "metadata": {},
   "source": [
    "### 15. Complex Number Support\n",
    "\n",
    "NumPy arrays can handle complex numbers."
   ]
  },
  {
   "cell_type": "code",
   "execution_count": 59,
   "id": "139dd469",
   "metadata": {},
   "outputs": [
    {
     "name": "stdout",
     "output_type": "stream",
     "text": [
      "Real Part: [1. 3.]\n",
      "Imaginary Part: [2. 4.]\n",
      "Conjugate: [1.-2.j 3.-4.j]\n"
     ]
    }
   ],
   "source": [
    "arr = np.array([1 + 2j, 3 + 4j])\n",
    "\n",
    "# Operations with complex numbers\n",
    "print(\"Real Part:\", arr.real)  # [1. 3.]\n",
    "print(\"Imaginary Part:\", arr.imag)  # [2. 4.]\n",
    "print(\"Conjugate:\", np.conj(arr))  # [1.-2.j 3.-4.j]"
   ]
  },
  {
   "cell_type": "markdown",
   "id": "92c5665e",
   "metadata": {},
   "source": [
    "### 16. Cumulative Operations\n",
    "#### a. Cumulative Sum"
   ]
  },
  {
   "cell_type": "code",
   "execution_count": 60,
   "id": "b9036776",
   "metadata": {},
   "outputs": [
    {
     "name": "stdout",
     "output_type": "stream",
     "text": [
      "Cumulative Sum: [ 1  3  6 10]\n"
     ]
    }
   ],
   "source": [
    "arr = np.array([1, 2, 3, 4])\n",
    "print(\"Cumulative Sum:\", np.cumsum(arr))  # [1 3 6 10]"
   ]
  },
  {
   "cell_type": "markdown",
   "id": "6cabbeb3",
   "metadata": {},
   "source": [
    "#### b. Cumulative Product"
   ]
  },
  {
   "cell_type": "code",
   "execution_count": 61,
   "id": "cff521c2",
   "metadata": {},
   "outputs": [
    {
     "name": "stdout",
     "output_type": "stream",
     "text": [
      "Cumulative Product: [ 1  2  6 24]\n"
     ]
    }
   ],
   "source": [
    "print(\"Cumulative Product:\", np.cumprod(arr))  # [1 2 6 24]"
   ]
  },
  {
   "cell_type": "markdown",
   "id": "f7b0e2ef",
   "metadata": {},
   "source": [
    "### 17. Element-Wise Operations with Custom Functions\n",
    "\n",
    "Use `np.vectorize` to apply custom functions element-wise"
   ]
  },
  {
   "cell_type": "code",
   "execution_count": 62,
   "id": "8eccc44f",
   "metadata": {},
   "outputs": [
    {
     "name": "stdout",
     "output_type": "stream",
     "text": [
      "Squared Array: [1 4 9]\n"
     ]
    }
   ],
   "source": [
    "def square(x):\n",
    "    return x ** 2\n",
    "\n",
    "arr = np.array([1, 2, 3])\n",
    "vectorized_square = np.vectorize(square)\n",
    "print(\"Squared Array:\", vectorized_square(arr))  # [1 4 9]"
   ]
  },
  {
   "cell_type": "markdown",
   "id": "9d6c18df",
   "metadata": {},
   "source": [
    "### 18. Matrix Multiplication and Dot Products\n",
    "#### a. Matrix Multiplication (@ or np.matmul)"
   ]
  },
  {
   "cell_type": "code",
   "execution_count": 63,
   "id": "bc72fd0b",
   "metadata": {},
   "outputs": [
    {
     "name": "stdout",
     "output_type": "stream",
     "text": [
      "Matrix Multiplication:\n",
      " [[19 22]\n",
      " [43 50]]\n"
     ]
    }
   ],
   "source": [
    "A = np.array([[1, 2], [3, 4]])\n",
    "B = np.array([[5, 6], [7, 8]])\n",
    "\n",
    "print(\"Matrix Multiplication:\\n\", A @ B)"
   ]
  },
  {
   "cell_type": "markdown",
   "id": "49f56dfc",
   "metadata": {},
   "source": [
    "#### b. Dot Product"
   ]
  },
  {
   "cell_type": "code",
   "execution_count": 64,
   "id": "6fe4957d",
   "metadata": {},
   "outputs": [
    {
     "name": "stdout",
     "output_type": "stream",
     "text": [
      "Dot Product: [[19 22]\n",
      " [43 50]]\n"
     ]
    }
   ],
   "source": [
    "dot_product = np.dot(arr1, arr2)\n",
    "print(\"Dot Product:\", dot_product)"
   ]
  },
  {
   "cell_type": "markdown",
   "id": "f49f03e6",
   "metadata": {},
   "source": [
    "### 19. Stacking"
   ]
  },
  {
   "cell_type": "markdown",
   "id": "c66590bc",
   "metadata": {},
   "source": [
    "#### horizontal stacking\n",
    "horizaontal stacking means placing arrays side by side "
   ]
  },
  {
   "cell_type": "code",
   "execution_count": 69,
   "id": "67258e4f",
   "metadata": {},
   "outputs": [
    {
     "name": "stdout",
     "output_type": "stream",
     "text": [
      "[[ 0  1  2  3]\n",
      " [ 4  5  6  7]\n",
      " [ 8  9 10 11]]\n"
     ]
    }
   ],
   "source": [
    "a4 = np.arange(12).reshape(3,4)\n",
    "print(a4)"
   ]
  },
  {
   "cell_type": "code",
   "execution_count": 70,
   "id": "f5f5625e",
   "metadata": {},
   "outputs": [
    {
     "name": "stdout",
     "output_type": "stream",
     "text": [
      "[[12 13 14 15]\n",
      " [16 17 18 19]\n",
      " [20 21 22 23]]\n"
     ]
    }
   ],
   "source": [
    "a5 = np.arange(12,24).reshape(3,4)\n",
    "print(a5)"
   ]
  },
  {
   "cell_type": "code",
   "execution_count": 71,
   "id": "f60a1236",
   "metadata": {},
   "outputs": [
    {
     "data": {
      "text/plain": [
       "array([[ 0,  1,  2,  3, 12, 13, 14, 15],\n",
       "       [ 4,  5,  6,  7, 16, 17, 18, 19],\n",
       "       [ 8,  9, 10, 11, 20, 21, 22, 23]])"
      ]
     },
     "execution_count": 71,
     "metadata": {},
     "output_type": "execute_result"
    }
   ],
   "source": [
    "np.hstack((a4,a5))"
   ]
  },
  {
   "cell_type": "markdown",
   "id": "9f141363",
   "metadata": {},
   "source": [
    "#### Vertical Stacking\n",
    "vertical stacking means placing arrays one upon other vertically"
   ]
  },
  {
   "cell_type": "code",
   "execution_count": 72,
   "id": "7224554c",
   "metadata": {},
   "outputs": [
    {
     "data": {
      "text/plain": [
       "array([[ 0,  1,  2,  3],\n",
       "       [ 4,  5,  6,  7],\n",
       "       [ 8,  9, 10, 11],\n",
       "       [12, 13, 14, 15],\n",
       "       [16, 17, 18, 19],\n",
       "       [20, 21, 22, 23]])"
      ]
     },
     "execution_count": 72,
     "metadata": {},
     "output_type": "execute_result"
    }
   ],
   "source": [
    "np.vstack((a4,a5))"
   ]
  },
  {
   "cell_type": "markdown",
   "id": "3a73e62e",
   "metadata": {},
   "source": [
    "### Broadcasting\n",
    "\n",
    "The term broadcasting describes how NumPy treats arrays with different shapes during arithmetic operations.\n",
    "\n",
    "The smaller array is “broadcast” across the larger array so that they have compatible shapes."
   ]
  },
  {
   "cell_type": "code",
   "execution_count": 73,
   "id": "34019a94",
   "metadata": {},
   "outputs": [
    {
     "name": "stdout",
     "output_type": "stream",
     "text": [
      "[[0 1 2]\n",
      " [3 4 5]]\n",
      "[[ 6  7  8]\n",
      " [ 9 10 11]]\n",
      "[[ 6  8 10]\n",
      " [12 14 16]]\n"
     ]
    }
   ],
   "source": [
    "# same shape\n",
    "a = np.arange(6).reshape(2,3)\n",
    "b = np.arange(6,12).reshape(2,3)\n",
    "\n",
    "print(a)\n",
    "print(b)\n",
    "\n",
    "print(a+b)"
   ]
  },
  {
   "cell_type": "code",
   "execution_count": 74,
   "id": "62f62792",
   "metadata": {},
   "outputs": [
    {
     "name": "stdout",
     "output_type": "stream",
     "text": [
      "[[0 1 2]\n",
      " [3 4 5]]\n",
      "[[0 1 2]]\n",
      "[[0 2 4]\n",
      " [3 5 7]]\n"
     ]
    }
   ],
   "source": [
    "# diff shape\n",
    "a = np.arange(6).reshape(2,3)\n",
    "b = np.arange(3).reshape(1,3)\n",
    "\n",
    "print(a)\n",
    "print(b)\n",
    "\n",
    "print(a+b)"
   ]
  },
  {
   "cell_type": "markdown",
   "id": "b25ac7a9",
   "metadata": {},
   "source": [
    "#### Broadcasting Rules\n",
    "\n",
    "**1. Make the two arrays have the same number of dimensions.**<br>\n",
    "- If the numbers of dimensions of the two arrays are different, add new dimensions with size 1 to the head of the array with the smaller dimension.<br>"
   ]
  },
  {
   "cell_type": "markdown",
   "id": "3ad777ef",
   "metadata": {},
   "source": [
    "**2. Make each dimension of the two arrays the same size.**<br>\n",
    "- If the sizes of each dimension of the two arrays do not match, dimensions with size 1 are stretched to the size of the other array.\n",
    "- If there is a dimension whose size is not 1 in either of the two arrays, it cannot be broadcasted, and an error is raised."
   ]
  },
  {
   "cell_type": "markdown",
   "id": "b288ad29",
   "metadata": {},
   "source": [
    "<img src = \"https://jakevdp.github.io/PythonDataScienceHandbook/figures/02.05-broadcasting.png\">"
   ]
  },
  {
   "cell_type": "code",
   "execution_count": 75,
   "id": "4eb6cdef",
   "metadata": {},
   "outputs": [
    {
     "name": "stdout",
     "output_type": "stream",
     "text": [
      "[[ 0  1  2]\n",
      " [ 3  4  5]\n",
      " [ 6  7  8]\n",
      " [ 9 10 11]]\n",
      "[0 1 2]\n",
      "[[ 0  2  4]\n",
      " [ 3  5  7]\n",
      " [ 6  8 10]\n",
      " [ 9 11 13]]\n"
     ]
    }
   ],
   "source": [
    "# More examples\n",
    "\n",
    "a = np.arange(12).reshape(4,3)\n",
    "b = np.arange(3)\n",
    "\n",
    "print(a)\n",
    "print(b)\n",
    "\n",
    "print(a+b)"
   ]
  },
  {
   "cell_type": "code",
   "execution_count": 76,
   "id": "a3c76c0a",
   "metadata": {},
   "outputs": [
    {
     "name": "stdout",
     "output_type": "stream",
     "text": [
      "[[ 0  1  2  3]\n",
      " [ 4  5  6  7]\n",
      " [ 8  9 10 11]]\n",
      "[0 1 2]\n"
     ]
    },
    {
     "ename": "ValueError",
     "evalue": "operands could not be broadcast together with shapes (3,4) (3,) ",
     "output_type": "error",
     "traceback": [
      "\u001b[1;31m---------------------------------------------------------------------------\u001b[0m",
      "\u001b[1;31mValueError\u001b[0m                                Traceback (most recent call last)",
      "Cell \u001b[1;32mIn[76], line 7\u001b[0m\n\u001b[0;32m      4\u001b[0m \u001b[38;5;28mprint\u001b[39m(a)\n\u001b[0;32m      5\u001b[0m \u001b[38;5;28mprint\u001b[39m(b)\n\u001b[1;32m----> 7\u001b[0m \u001b[38;5;28mprint\u001b[39m(\u001b[43ma\u001b[49m\u001b[38;5;241;43m+\u001b[39;49m\u001b[43mb\u001b[49m)\n",
      "\u001b[1;31mValueError\u001b[0m: operands could not be broadcast together with shapes (3,4) (3,) "
     ]
    }
   ],
   "source": [
    "a = np.arange(12).reshape(3,4)\n",
    "b = np.arange(3)\n",
    "\n",
    "print(a)\n",
    "print(b)\n",
    "\n",
    "print(a+b)"
   ]
  },
  {
   "cell_type": "code",
   "execution_count": 77,
   "id": "d36dfc71",
   "metadata": {},
   "outputs": [
    {
     "name": "stdout",
     "output_type": "stream",
     "text": [
      "[[0 1 2]]\n",
      "[[0]\n",
      " [1]\n",
      " [2]]\n",
      "[[0 1 2]\n",
      " [1 2 3]\n",
      " [2 3 4]]\n"
     ]
    }
   ],
   "source": [
    "a = np.arange(3).reshape(1,3)\n",
    "b = np.arange(3).reshape(3,1)\n",
    "\n",
    "print(a)\n",
    "print(b)\n",
    "\n",
    "print(a+b)"
   ]
  },
  {
   "cell_type": "code",
   "execution_count": 78,
   "id": "aa58d4ac",
   "metadata": {},
   "outputs": [
    {
     "name": "stdout",
     "output_type": "stream",
     "text": [
      "[[0 1 2]]\n",
      "[[0]\n",
      " [1]\n",
      " [2]\n",
      " [3]]\n",
      "[[0 1 2]\n",
      " [1 2 3]\n",
      " [2 3 4]\n",
      " [3 4 5]]\n"
     ]
    }
   ],
   "source": [
    "a = np.arange(3).reshape(1,3)\n",
    "b = np.arange(4).reshape(4,1)\n",
    "\n",
    "print(a)\n",
    "print(b)\n",
    "\n",
    "print(a + b)"
   ]
  },
  {
   "cell_type": "code",
   "execution_count": 79,
   "id": "4dcf18d0",
   "metadata": {},
   "outputs": [
    {
     "name": "stdout",
     "output_type": "stream",
     "text": [
      "[1]\n",
      "[[0 1]\n",
      " [2 3]]\n",
      "[[1 2]\n",
      " [3 4]]\n"
     ]
    }
   ],
   "source": [
    "a = np.array([1])\n",
    "# shape -> (1,1)\n",
    "b = np.arange(4).reshape(2,2)\n",
    "# shape -> (2,2)\n",
    "\n",
    "print(a)\n",
    "print(b)\n",
    "\n",
    "print(a+b)"
   ]
  },
  {
   "cell_type": "code",
   "execution_count": 80,
   "id": "eb5e07ef",
   "metadata": {},
   "outputs": [
    {
     "name": "stdout",
     "output_type": "stream",
     "text": [
      "[[ 0  1  2  3]\n",
      " [ 4  5  6  7]\n",
      " [ 8  9 10 11]]\n",
      "[[ 0  1  2]\n",
      " [ 3  4  5]\n",
      " [ 6  7  8]\n",
      " [ 9 10 11]]\n"
     ]
    },
    {
     "ename": "ValueError",
     "evalue": "operands could not be broadcast together with shapes (3,4) (4,3) ",
     "output_type": "error",
     "traceback": [
      "\u001b[1;31m---------------------------------------------------------------------------\u001b[0m",
      "\u001b[1;31mValueError\u001b[0m                                Traceback (most recent call last)",
      "Cell \u001b[1;32mIn[80], line 7\u001b[0m\n\u001b[0;32m      4\u001b[0m \u001b[38;5;28mprint\u001b[39m(a)\n\u001b[0;32m      5\u001b[0m \u001b[38;5;28mprint\u001b[39m(b)\n\u001b[1;32m----> 7\u001b[0m \u001b[38;5;28mprint\u001b[39m(\u001b[43ma\u001b[49m\u001b[38;5;241;43m+\u001b[39;49m\u001b[43mb\u001b[49m)\n",
      "\u001b[1;31mValueError\u001b[0m: operands could not be broadcast together with shapes (3,4) (4,3) "
     ]
    }
   ],
   "source": [
    "a = np.arange(12).reshape(3,4)\n",
    "b = np.arange(12).reshape(4,3)\n",
    "\n",
    "print(a)\n",
    "print(b)\n",
    "\n",
    "print(a+b)"
   ]
  },
  {
   "cell_type": "code",
   "execution_count": 81,
   "id": "c023c30c",
   "metadata": {},
   "outputs": [
    {
     "name": "stdout",
     "output_type": "stream",
     "text": [
      "[[ 0  1  2  3]\n",
      " [ 4  5  6  7]\n",
      " [ 8  9 10 11]\n",
      " [12 13 14 15]]\n",
      "[[0 1]\n",
      " [2 3]]\n"
     ]
    },
    {
     "ename": "ValueError",
     "evalue": "operands could not be broadcast together with shapes (4,4) (2,2) ",
     "output_type": "error",
     "traceback": [
      "\u001b[1;31m---------------------------------------------------------------------------\u001b[0m",
      "\u001b[1;31mValueError\u001b[0m                                Traceback (most recent call last)",
      "Cell \u001b[1;32mIn[81], line 7\u001b[0m\n\u001b[0;32m      4\u001b[0m \u001b[38;5;28mprint\u001b[39m(a)\n\u001b[0;32m      5\u001b[0m \u001b[38;5;28mprint\u001b[39m(b)\n\u001b[1;32m----> 7\u001b[0m \u001b[38;5;28mprint\u001b[39m(\u001b[43ma\u001b[49m\u001b[38;5;241;43m+\u001b[39;49m\u001b[43mb\u001b[49m)\n",
      "\u001b[1;31mValueError\u001b[0m: operands could not be broadcast together with shapes (4,4) (2,2) "
     ]
    }
   ],
   "source": [
    "a = np.arange(16).reshape(4,4)\n",
    "b = np.arange(4).reshape(2,2)\n",
    "\n",
    "print(a)\n",
    "print(b)\n",
    "\n",
    "print(a+b)"
   ]
  },
  {
   "cell_type": "markdown",
   "id": "2e3bdf53",
   "metadata": {},
   "source": [
    "### Difference between Numpy array and Python List"
   ]
  },
  {
   "cell_type": "markdown",
   "id": "5ddc4471",
   "metadata": {},
   "source": [
    "| **Feature**               | **NumPy Array**                                      | **Python List**                                   |\n",
    "|---------------------------|-----------------------------------------------------|-------------------------------------------------|\n",
    "| **Data Type**             | Homogeneous: All elements must have the same type.  | Heterogeneous: Can contain different data types. |\n",
    "| **Performance**           | Faster: Optimized for numerical computations using C. | Slower: Operations involve Python's interpreter overhead. |\n",
    "| **Memory Usage**          | More efficient: Fixed data type reduces memory usage. | Less efficient: Stores pointers for each element. |\n",
    "| **Element-wise Operations** | Supported directly (e.g., `arr + 1`, `arr * 2`).    | Not supported; requires loops or comprehension. |\n",
    "| **Functionality**         | Provides mathematical, statistical, and logical functions. | Limited to built-in Python operations and libraries. |\n",
    "| **Dimensionality**        | Supports multi-dimensional arrays (e.g., 2D, 3D).   | Only 1D, but lists of lists can mimic multi-dimensional arrays. |\n",
    "| **Indexing and Slicing**  | Advanced slicing and broadcasting supported.         | Basic slicing; less flexible.                   |\n",
    "| **Type Enforcement**      | Enforces single data type for all elements.          | Allows mixing types (e.g., `int`, `str`).       |\n",
    "| **Flexibility**           | Less flexible: Fixed size, no direct appending/inserting. | Flexible: Can dynamically grow or shrink.       |\n",
    "| **Library Integration**   | Ideal for numerical computations (e.g., SciPy, TensorFlow). | General-purpose but slower for numerical tasks. |\n",
    "| **Use Case**              | Best for numerical data, linear algebra, and machine learning. | General-purpose data storage and manipulation.  |\n"
   ]
  },
  {
   "cell_type": "markdown",
   "id": "6700684f",
   "metadata": {},
   "source": [
    "### Why do we need Numpy Array?"
   ]
  },
  {
   "cell_type": "markdown",
   "id": "57126965",
   "metadata": {},
   "source": [
    "We need NumPy arrays because they provide several advantages over traditional Python lists for numerical computations, data analysis, and scientific programming. Here’s a detailed explanation"
   ]
  },
  {
   "cell_type": "markdown",
   "id": "604f4438",
   "metadata": {},
   "source": [
    "#### 1. Performance (Speed)\n",
    "\n",
    "   * NumPy arrays are implemented in C, enabling vectorized operations that are much faster than looping through Python lists.\n",
    "   * They eliminate the overhead of Python’s dynamic typing, making operations significantly faster."
   ]
  },
  {
   "cell_type": "code",
   "execution_count": 84,
   "id": "65b6dd55",
   "metadata": {},
   "outputs": [
    {
     "name": "stdout",
     "output_type": "stream",
     "text": [
      "NumPy Time: 0.003993511199951172\n",
      "List Time: 0.18100476264953613\n"
     ]
    }
   ],
   "source": [
    "import numpy as np\n",
    "import time\n",
    "\n",
    "# NumPy array\n",
    "arr = np.arange(1_000_000)\n",
    "start = time.time()\n",
    "arr = arr * 2\n",
    "print(\"NumPy Time:\", time.time() - start)\n",
    "\n",
    "# Python list\n",
    "lst = list(range(1_000_000))\n",
    "start = time.time()\n",
    "lst = [x * 2 for x in lst]\n",
    "print(\"List Time:\", time.time() - start)"
   ]
  },
  {
   "cell_type": "markdown",
   "id": "313547c2",
   "metadata": {},
   "source": [
    "**Result:** NumPy is typically `10x to 100x` faster than Python lists"
   ]
  },
  {
   "cell_type": "markdown",
   "id": "fe43f27e",
   "metadata": {},
   "source": [
    "### 2. Memory Efficiency\n",
    "\n",
    "   * NumPy arrays store elements in contiguous memory blocks, ensuring efficient storage and retrieval.\n",
    "   * Python lists store references (pointers) to objects, which adds overhead."
   ]
  },
  {
   "cell_type": "code",
   "execution_count": 85,
   "id": "ec241adb",
   "metadata": {},
   "outputs": [
    {
     "name": "stdout",
     "output_type": "stream",
     "text": [
      "NumPy Array Memory (bytes): 20\n",
      "Python List Memory (bytes): 244\n"
     ]
    }
   ],
   "source": [
    "import numpy as np\n",
    "import sys\n",
    "\n",
    "# Memory usage of a NumPy array\n",
    "arr = np.array([1, 2, 3, 4, 5])\n",
    "print(\"NumPy Array Memory (bytes):\", arr.nbytes)\n",
    "\n",
    "# Memory usage of a Python list\n",
    "lst = [1, 2, 3, 4, 5]\n",
    "print(\"Python List Memory (bytes):\", sys.getsizeof(lst) + sum(sys.getsizeof(i) for i in lst))"
   ]
  },
  {
   "cell_type": "markdown",
   "id": "361dea0f",
   "metadata": {},
   "source": [
    "**Result:** NumPy arrays use significantly less memory."
   ]
  },
  {
   "cell_type": "markdown",
   "id": "ff23b7e7",
   "metadata": {},
   "source": [
    "#### 3. Vectorized Operations\n",
    "\n",
    "    Operations in NumPy are applied element-wise without the need for explicit loops, making code more concise and efficient."
   ]
  },
  {
   "cell_type": "code",
   "execution_count": 86,
   "id": "f6f872c1",
   "metadata": {},
   "outputs": [
    {
     "name": "stdout",
     "output_type": "stream",
     "text": [
      "[11 12 13 14 15]\n",
      "[11, 12, 13, 14, 15]\n"
     ]
    }
   ],
   "source": [
    "# NumPy array operation\n",
    "arr = np.array([1, 2, 3, 4, 5])\n",
    "print(arr + 10)  # [11 12 13 14 15]\n",
    "\n",
    "# Python list operation\n",
    "lst = [1, 2, 3, 4, 5]\n",
    "print([x + 10 for x in lst])  # [11, 12, 13, 14, 15]"
   ]
  },
  {
   "cell_type": "code",
   "execution_count": null,
   "id": "cc38a1a4",
   "metadata": {},
   "outputs": [],
   "source": []
  }
 ],
 "metadata": {
  "kernelspec": {
   "display_name": "Python 3 (ipykernel)",
   "language": "python",
   "name": "python3"
  },
  "language_info": {
   "codemirror_mode": {
    "name": "ipython",
    "version": 3
   },
   "file_extension": ".py",
   "mimetype": "text/x-python",
   "name": "python",
   "nbconvert_exporter": "python",
   "pygments_lexer": "ipython3",
   "version": "3.11.5"
  }
 },
 "nbformat": 4,
 "nbformat_minor": 5
}
